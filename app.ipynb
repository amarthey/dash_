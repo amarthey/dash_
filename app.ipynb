{
 "cells": [
  {
   "cell_type": "code",
   "execution_count": 1,
   "metadata": {
    "collapsed": true
   },
   "outputs": [],
   "source": [
    "import pandas as pd\n",
    "import os\n",
    "import numpy as np"
   ]
  },
  {
   "cell_type": "code",
   "execution_count": 2,
   "metadata": {
    "collapsed": true
   },
   "outputs": [],
   "source": [
    "import dash\n",
    "import dash_core_components as dcc\n",
    "import dash_html_components as html\n",
    "import dash_colorscales\n",
    "import plotly.graph_objs as go"
   ]
  },
  {
   "cell_type": "code",
   "execution_count": 3,
   "metadata": {},
   "outputs": [],
   "source": [
    "pd.options.display.max_rows = 10"
   ]
  },
  {
   "cell_type": "code",
   "execution_count": 4,
   "metadata": {},
   "outputs": [],
   "source": [
    "directory = os.getcwd()"
   ]
  },
  {
   "cell_type": "code",
   "execution_count": 5,
   "metadata": {
    "collapsed": true
   },
   "outputs": [],
   "source": [
    "df = pd.read_csv(os.path.join(directory, 'sp500.csv'), )"
   ]
  },
  {
   "cell_type": "code",
   "execution_count": 6,
   "metadata": {},
   "outputs": [],
   "source": [
    "df.columns = ['Date', 'Open', 'High', 'Low', 'Close', 'Volume', 'Name']"
   ]
  },
  {
   "cell_type": "code",
   "execution_count": 7,
   "metadata": {},
   "outputs": [],
   "source": [
    "data = df[df.Name.isin(['AAL', 'APH', 'HCA', 'MON'])].copy()"
   ]
  },
  {
   "cell_type": "code",
   "execution_count": 8,
   "metadata": {},
   "outputs": [],
   "source": [
    "app = dash.Dash()"
   ]
  },
  {
   "cell_type": "code",
   "execution_count": 9,
   "metadata": {
    "collapsed": true
   },
   "outputs": [],
   "source": [
    "app.layout = html.Div([\n",
    "    dcc.Graph(\n",
    "        id='s&p500 historical',\n",
    "        figure={\n",
    "            'data': [\n",
    "                    go.Scatter(\n",
    "                        x=data[data['Name'] == i]['Date'],\n",
    "                        y=data[data['Name'] == i]['Close'],\n",
    "                        text=data[data['Name'] == i]['Volume'],\n",
    "                        opacity=0.9,\n",
    "                        name=i, \n",
    "                        line = dict(color=np.random.randint(10),width = 2)\n",
    "                    ) for i in data.Name.unique()\n",
    "                    ],\n",
    "            'layout': go.Layout(\n",
    "                xaxis=dict(title='Date', tickfont=dict(size=12)),\n",
    "                yaxis=dict(title='Closing Value'),\n",
    "                legend=dict(x=0, y=1),\n",
    "                hovermode='closest'\n",
    "            )\n",
    "        }\n",
    "    )\n",
    "])"
   ]
  },
  {
   "cell_type": "code",
   "execution_count": null,
   "metadata": {},
   "outputs": [
    {
     "name": "stderr",
     "output_type": "stream",
     "text": [
      " * Running on http://127.0.0.1:8050/ (Press CTRL+C to quit)\n",
      "127.0.0.1 - - [10/Apr/2018 23:00:09] \"GET / HTTP/1.1\" 200 -\n",
      "127.0.0.1 - - [10/Apr/2018 23:00:09] \"GET /apple-touch-icon-precomposed.png HTTP/1.1\" 200 -\n",
      "127.0.0.1 - - [10/Apr/2018 23:00:09] \"GET /apple-touch-icon.png HTTP/1.1\" 200 -\n",
      "127.0.0.1 - - [10/Apr/2018 23:00:09] \"GET /favicon.ico HTTP/1.1\" 200 -\n",
      "127.0.0.1 - - [10/Apr/2018 23:00:09] \"GET /apple-touch-icon-precomposed.png HTTP/1.1\" 200 -\n",
      "127.0.0.1 - - [10/Apr/2018 23:00:09] \"GET /apple-touch-icon.png HTTP/1.1\" 200 -\n",
      "127.0.0.1 - - [10/Apr/2018 23:00:09] \"GET /favicon.ico HTTP/1.1\" 200 -\n",
      "127.0.0.1 - - [10/Apr/2018 23:00:09] \"GET / HTTP/1.1\" 200 -\n",
      "127.0.0.1 - - [10/Apr/2018 23:00:09] \"GET /apple-touch-icon-precomposed.png HTTP/1.1\" 200 -\n",
      "127.0.0.1 - - [10/Apr/2018 23:00:09] \"GET /apple-touch-icon.png HTTP/1.1\" 200 -\n",
      "127.0.0.1 - - [10/Apr/2018 23:00:09] \"GET /favicon.ico HTTP/1.1\" 200 -\n",
      "127.0.0.1 - - [10/Apr/2018 23:00:09] \"GET /apple-touch-icon-precomposed.png HTTP/1.1\" 200 -\n",
      "127.0.0.1 - - [10/Apr/2018 23:00:09] \"GET /apple-touch-icon.png HTTP/1.1\" 200 -\n",
      "127.0.0.1 - - [10/Apr/2018 23:00:09] \"GET /favicon.ico HTTP/1.1\" 200 -\n",
      "127.0.0.1 - - [10/Apr/2018 23:00:16] \"GET / HTTP/1.1\" 200 -\n",
      "127.0.0.1 - - [10/Apr/2018 23:00:16] \"GET /_dash-layout HTTP/1.1\" 200 -\n",
      "127.0.0.1 - - [10/Apr/2018 23:00:16] \"GET /_dash-dependencies HTTP/1.1\" 200 -\n",
      "127.0.0.1 - - [10/Apr/2018 23:00:18] \"GET /apple-touch-icon-precomposed.png HTTP/1.1\" 200 -\n",
      "127.0.0.1 - - [10/Apr/2018 23:00:18] \"GET /apple-touch-icon.png HTTP/1.1\" 200 -\n"
     ]
    }
   ],
   "source": [
    "app.run_server()"
   ]
  }
 ],
 "metadata": {
  "kernelspec": {
   "display_name": "Python 3",
   "language": "python",
   "name": "python3"
  },
  "language_info": {
   "codemirror_mode": {
    "name": "ipython",
    "version": 3
   },
   "file_extension": ".py",
   "mimetype": "text/x-python",
   "name": "python",
   "nbconvert_exporter": "python",
   "pygments_lexer": "ipython3",
   "version": "3.6.2"
  }
 },
 "nbformat": 4,
 "nbformat_minor": 2
}
