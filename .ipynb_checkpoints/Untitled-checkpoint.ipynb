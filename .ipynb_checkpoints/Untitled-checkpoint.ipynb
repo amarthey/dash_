{
 "cells": [
  {
   "cell_type": "code",
   "execution_count": 1,
   "metadata": {},
   "outputs": [],
   "source": [
    "import dash\n",
    "import dash_core_components as dcc\n",
    "import dash_html_components as html\n",
    "\n",
    "app = dash.Dash()\n",
    "app.layout = html.Div([\n",
    "    html.Div(\n",
    "        className=\"row\",\n",
    "        children=[\n",
    "            html.Div(\n",
    "                className=\"six columns\",\n",
    "                children=[\n",
    "                    html.Div(\n",
    "                        children=dcc.Graph(\n",
    "                            id='left-graph',\n",
    "                            figure={\n",
    "                                'data': [{\n",
    "                                    'x': [1, 2, 3],\n",
    "                                    'y': [3, 1, 2],\n",
    "                                    'type': 'bar'\n",
    "                                }],\n",
    "                                'layout': {\n",
    "                                    'height': 800,\n",
    "                                    'margin': {\n",
    "                                        'l': 10, 'b': 20, 't': 0, 'r': 0\n",
    "                                    }\n",
    "                                }\n",
    "                            }\n",
    "                        )\n",
    "                    )\n",
    "                ]\n",
    "            ),\n",
    "            html.Div(\n",
    "                className=\"six columns\",\n",
    "                children=html.Div([\n",
    "                    dcc.Graph(\n",
    "                        id='right-top-graph',\n",
    "                        figure={\n",
    "                            'data': [{\n",
    "                                'x': [1, 2, 3],\n",
    "                                'y': [3, 1, 2],\n",
    "                                'type': 'bar'\n",
    "                            }],\n",
    "                            'layout': {\n",
    "                                'height': 400,\n",
    "                                'margin': {'l': 10, 'b': 20, 't': 0, 'r': 0}\n",
    "                            }\n",
    "                        }\n",
    "                    ),\n",
    "                    dcc.Graph(\n",
    "                        id='right-bottom-graph',\n",
    "                        figure={\n",
    "                            'data': [{\n",
    "                                'x': [1, 2, 3],\n",
    "                                'y': [3, 1, 2],\n",
    "                                'type': 'bar'\n",
    "                            }],\n",
    "                            'layout': {\n",
    "                                'height': 400,\n",
    "                                'margin': {'l': 10, 'b': 20, 't': 0, 'r': 0}\n",
    "                            }\n",
    "                        }\n",
    "                    ),\n",
    "\n",
    "                ])\n",
    "            )\n",
    "        ]\n",
    "    )\n",
    "])"
   ]
  },
  {
   "cell_type": "code",
   "execution_count": 2,
   "metadata": {},
   "outputs": [
    {
     "name": "stderr",
     "output_type": "stream",
     "text": [
      " * Running on http://127.0.0.1:8050/ (Press CTRL+C to quit)\n",
      " * Restarting with stat\n"
     ]
    },
    {
     "ename": "SystemExit",
     "evalue": "1",
     "output_type": "error",
     "traceback": [
      "An exception has occurred, use %tb to see the full traceback.\n",
      "\u001b[0;31mSystemExit\u001b[0m\u001b[0;31m:\u001b[0m 1\n"
     ]
    },
    {
     "name": "stderr",
     "output_type": "stream",
     "text": [
      "/anaconda/lib/python3.6/site-packages/IPython/core/interactiveshell.py:2971: UserWarning:\n",
      "\n",
      "To exit: use 'exit', 'quit', or Ctrl-D.\n",
      "\n"
     ]
    }
   ],
   "source": [
    "app.run_server(debug=True)"
   ]
  },
  {
   "cell_type": "code",
   "execution_count": null,
   "metadata": {},
   "outputs": [],
   "source": []
  }
 ],
 "metadata": {
  "kernelspec": {
   "display_name": "Python 3",
   "language": "python",
   "name": "python3"
  },
  "language_info": {
   "codemirror_mode": {
    "name": "ipython",
    "version": 3
   },
   "file_extension": ".py",
   "mimetype": "text/x-python",
   "name": "python",
   "nbconvert_exporter": "python",
   "pygments_lexer": "ipython3",
   "version": "3.6.2"
  }
 },
 "nbformat": 4,
 "nbformat_minor": 2
}
