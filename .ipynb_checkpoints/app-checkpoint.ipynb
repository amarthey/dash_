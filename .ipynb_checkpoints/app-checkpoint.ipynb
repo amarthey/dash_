{
 "cells": [
  {
   "cell_type": "code",
   "execution_count": 1,
   "metadata": {
    "collapsed": true
   },
   "outputs": [],
   "source": [
    "import pandas as pd\n",
    "import os\n",
    "import numpy as np"
   ]
  },
  {
   "cell_type": "code",
   "execution_count": 2,
   "metadata": {
    "collapsed": true
   },
   "outputs": [],
   "source": [
    "import dash\n",
    "import dash_core_components as dcc\n",
    "import dash_html_components as html\n",
    "import dash_colorscales\n",
    "import plotly.graph_objs as go\n",
    "from dash.dependencies import Input, Output, State\n",
    "import dash_table_experiments as dt\n",
    "import colorlover as cl\n",
    "from IPython.display import HTML"
   ]
  },
  {
   "cell_type": "code",
   "execution_count": 3,
   "metadata": {},
   "outputs": [],
   "source": [
    "from controls import STOCK, YEAR"
   ]
  },
  {
   "cell_type": "code",
   "execution_count": 4,
   "metadata": {},
   "outputs": [],
   "source": [
    "pd.options.display.max_rows = 10"
   ]
  },
  {
   "cell_type": "code",
   "execution_count": 5,
   "metadata": {},
   "outputs": [],
   "source": [
    "directory = os.getcwd()"
   ]
  },
  {
   "cell_type": "code",
   "execution_count": 6,
   "metadata": {
    "collapsed": true
   },
   "outputs": [],
   "source": [
    "df = pd.read_csv(os.path.join(directory, 'sp500.csv'), )"
   ]
  },
  {
   "cell_type": "code",
   "execution_count": 7,
   "metadata": {},
   "outputs": [],
   "source": [
    "df.columns = ['Date', 'Open', 'High', 'Low', 'Close', 'Volume', 'Name']"
   ]
  },
  {
   "cell_type": "code",
   "execution_count": 8,
   "metadata": {},
   "outputs": [],
   "source": [
    "data = df[df.Name.isin(['AAL', 'APH', 'HCA', 'MON'])].copy()"
   ]
  },
  {
   "cell_type": "code",
   "execution_count": 9,
   "metadata": {},
   "outputs": [],
   "source": [
    "data.Date = pd.to_datetime(data.Date)"
   ]
  },
  {
   "cell_type": "code",
   "execution_count": 10,
   "metadata": {},
   "outputs": [],
   "source": [
    "data['Year'] = data.Date.apply(lambda x: x.year)"
   ]
  },
  {
   "cell_type": "code",
   "execution_count": 11,
   "metadata": {},
   "outputs": [],
   "source": [
    "def filter_dataframe(df, stock, year):\n",
    "    dff = df[df['Name'].isin(stock)]\n",
    "    dfff = dff[(dff['Year']>=min(year))&(dff['Year']<=max(year))]\n",
    "    return dfff"
   ]
  },
  {
   "cell_type": "code",
   "execution_count": 12,
   "metadata": {},
   "outputs": [],
   "source": [
    "app = dash.Dash()"
   ]
  },
  {
   "cell_type": "code",
   "execution_count": 13,
   "metadata": {},
   "outputs": [],
   "source": [
    "app.css.append_css({'external_url': 'https://codepen.io/chriddyp/pen/bWLwgP.css'})"
   ]
  },
  {
   "cell_type": "code",
   "execution_count": 14,
   "metadata": {},
   "outputs": [],
   "source": [
    "stock = [{'label': str(STOCK[stock]),\n",
    "          'value': str(stock)}\n",
    "         for stock in STOCK]"
   ]
  },
  {
   "cell_type": "code",
   "execution_count": 15,
   "metadata": {
    "collapsed": true
   },
   "outputs": [],
   "source": [
    "app.layout = html.Div([\n",
    "    html.Div(\n",
    "            html.H1('Stock SP500', style={'color': 'black', \n",
    "                                      'fontSize': 30,\n",
    "                                      'text-align': 'center'}), className='banner'\n",
    "                     ),\n",
    "            html.Div([\n",
    "                    html.Div([\n",
    "                        html.Div(\n",
    "                            className='row',\n",
    "                            children=[\n",
    "                                html.Div(\n",
    "                                    className='six columns',\n",
    "                                    children=[\n",
    "                                        html.Div(\n",
    "                                            children=[\n",
    "                                                html.Div([dcc.Dropdown(id='stock_label',\n",
    "                                                                       options=stock,\n",
    "                                                                       multi=True,\n",
    "                                                                       value=list(STOCK.keys())\n",
    "                                                                    )]),\n",
    "                                                            dt.DataTable(id='table',\n",
    "                                                                         rows=data.to_dict('records'),\n",
    "                                                                         columns=data.columns,\n",
    "                                                                         row_selectable=True,\n",
    "                                                                         filterable=True,\n",
    "                                                                         min_height=300,\n",
    "                                                                         sortable=True, \n",
    "                                                                         row_height=30,\n",
    "                                                                         selected_row_indices=[])]\n",
    "                                                        , style={'marginBottom': 20, 'marginTop': 20, 'marginLeft': 30,'marginRight': 30})\n",
    "                                        ]),\n",
    "\n",
    "                                html.Div(\n",
    "                                    className='six columns',\n",
    "                                    children=html.Div([\n",
    "                                        dcc.Graph(id='graph_pie')\n",
    "                                    ], style={'marginBottom': 20, 'marginTop': 20, 'marginLeft': 30,'marginRight': 30})\n",
    "                                )]\n",
    "                        ), dcc.Graph(id='graph')\n",
    "                    ]),\n",
    "\n",
    "                            dcc.RangeSlider(\n",
    "                                id='year_selected',\n",
    "                                min=min(YEAR.keys()),\n",
    "                                max=max(YEAR.keys()),\n",
    "                                step=None,\n",
    "                                marks=YEAR,\n",
    "                                value=[min(YEAR.keys()), max(YEAR.keys())])\n",
    "                                ])\n",
    "                ], style={'marginBottom': 30, 'marginTop': 30, 'marginLeft': 40,'marginRight': 40}\n",
    "            )"
   ]
  },
  {
   "cell_type": "code",
   "execution_count": 16,
   "metadata": {},
   "outputs": [],
   "source": [
    "@app.callback(Output('graph', 'figure'),\n",
    "              [Input('stock_label', 'value'),\n",
    "               Input('year_selected', 'value')])\n",
    "def updtate_graph(dropvalue, year):\n",
    "    dff = filter_dataframe(data, dropvalue, year)\n",
    "    layout = go.Layout( title='Daily Closing Value',\n",
    "                        xaxis=dict(title='Calendar Day', tickfont=dict(size=12)),\n",
    "                        yaxis=dict(title='Value'),\n",
    "                        legend=dict(x=0, y=1),\n",
    "                        height=300,\n",
    "                        hovermode='closest',\n",
    "                        margin=dict(l=35, r=35, b=35, t=45)\n",
    "                      )\n",
    "    \n",
    "    traces = []\n",
    "    colors = cl.scales['12']['qual']['Set3']\n",
    "    item = 0\n",
    "    for i in dff.Name.unique():\n",
    "        traces.append(go.Scatter(\n",
    "                                  x=dff[dff['Name']==i]['Date'],\n",
    "                                  y=dff[dff['Name']==i]['Close'],\n",
    "                                  text='Close',\n",
    "                                  opacity=0.9,\n",
    "                                  name=i,\n",
    "                                  line=dict(color=colors[item], width=2)\n",
    "        ))\n",
    "        traces.append(go.Scatter(\n",
    "                                  x=dff[dff['Name']==i]['Date'],\n",
    "                                  y=dff[dff['Name']==i]['High'],\n",
    "                                  text='High',\n",
    "                                  opacity=0.9,\n",
    "                                  name=i,\n",
    "                                  line=dict(color=colors[item], width=2, dash = 'dot'),\n",
    "                                  showlegend=False\n",
    "        ))\n",
    "        traces.append(go.Scatter(\n",
    "                                  x=dff[dff['Name']==i]['Date'],\n",
    "                                  y=dff[dff['Name']==i]['Low'],\n",
    "                                  text='Low',\n",
    "                                  opacity=0.9,\n",
    "                                  name=i,\n",
    "                                  line=dict(color=colors[item], width=2, dash = 'dot'),\n",
    "                                  showlegend=False\n",
    "        ))\n",
    "        item += 1\n",
    "    return {\n",
    "            'data': traces,\n",
    "            'layout': layout \n",
    "            }"
   ]
  },
  {
   "cell_type": "code",
   "execution_count": 17,
   "metadata": {},
   "outputs": [],
   "source": [
    "@app.callback(Output('graph_pie', 'figure'),\n",
    "              [Input('stock_label', 'value'),\n",
    "               Input('year_selected', 'value')])\n",
    "def updtate_graph_pie(dropvalue, year):\n",
    "    dff = filter_dataframe(data, dropvalue, year)\n",
    "    vol_ = dff.groupby(by='Name').Volume.mean().tolist()\n",
    "    trace = []\n",
    "    trace.append(go.Pie(labels=dff.Name.unique().tolist(), values=vol_))\n",
    "    \n",
    "    layout = go.Layout(\n",
    "                        title='Distribution of volume',\n",
    "                        autosize=True,\n",
    "                        height=300,\n",
    "                        #font=dict(color='#CCCCCC'),\n",
    "                        #titlefont=dict(color='#CCCCCC', size='14'),\n",
    "                        margin=dict(\n",
    "                            l=35,\n",
    "                            r=35,\n",
    "                            b=35,\n",
    "                            t=45\n",
    "                        ),\n",
    "                        #hovermode=\"closest\",\n",
    "                        #plot_bgcolor=\"#191A1A\",\n",
    "                        #paper_bgcolor=\"#020202\",\n",
    "                        #legend=dict(font=dict(size=10), orientation='h'),\n",
    "                       \n",
    "    )\n",
    "    \n",
    "    return {\n",
    "            'data': trace,\n",
    "            'layout': layout \n",
    "            }"
   ]
  },
  {
   "cell_type": "code",
   "execution_count": null,
   "metadata": {},
   "outputs": [
    {
     "name": "stderr",
     "output_type": "stream",
     "text": [
      " * Running on http://127.0.0.1:8050/ (Press CTRL+C to quit)\n",
      "127.0.0.1 - - [17/Apr/2018 22:49:09] \"GET / HTTP/1.1\" 200 -\n",
      "127.0.0.1 - - [17/Apr/2018 22:49:09] \"GET /_dash-layout HTTP/1.1\" 200 -\n",
      "127.0.0.1 - - [17/Apr/2018 22:49:09] \"GET /_dash-dependencies HTTP/1.1\" 200 -\n",
      "127.0.0.1 - - [17/Apr/2018 22:49:11] \"GET /_dash-layout HTTP/1.1\" 200 -\n",
      "127.0.0.1 - - [17/Apr/2018 22:49:11] \"GET /_dash-dependencies HTTP/1.1\" 200 -\n",
      "127.0.0.1 - - [17/Apr/2018 22:49:11] \"GET / HTTP/1.1\" 200 -\n",
      "127.0.0.1 - - [17/Apr/2018 22:49:13] \"POST /_dash-update-component HTTP/1.1\" 200 -\n",
      "127.0.0.1 - - [17/Apr/2018 22:49:14] \"POST /_dash-update-component HTTP/1.1\" 200 -\n",
      "127.0.0.1 - - [17/Apr/2018 22:54:33] \"POST /_dash-update-component HTTP/1.1\" 200 -\n",
      "127.0.0.1 - - [17/Apr/2018 22:54:33] \"POST /_dash-update-component HTTP/1.1\" 200 -\n"
     ]
    }
   ],
   "source": [
    "app.run_server()"
   ]
  },
  {
   "cell_type": "code",
   "execution_count": null,
   "metadata": {},
   "outputs": [],
   "source": []
  }
 ],
 "metadata": {
  "kernelspec": {
   "display_name": "Python 3",
   "language": "python",
   "name": "python3"
  },
  "language_info": {
   "codemirror_mode": {
    "name": "ipython",
    "version": 3
   },
   "file_extension": ".py",
   "mimetype": "text/x-python",
   "name": "python",
   "nbconvert_exporter": "python",
   "pygments_lexer": "ipython3",
   "version": "3.6.2"
  }
 },
 "nbformat": 4,
 "nbformat_minor": 2
}
